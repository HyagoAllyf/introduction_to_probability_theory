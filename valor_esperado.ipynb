{
 "cells": [
  {
   "cell_type": "markdown",
   "metadata": {},
   "source": [
    "# Valor Esperado\n",
    "\n",
    "**Exemplo 1**\n",
    "\n",
    "Se um dado for lançado e  *X*  designar o valor obtido, vamos calcular $ \\mu = E(X) $.\n",
    " "
   ]
  },
  {
   "cell_type": "code",
   "execution_count": 1,
   "metadata": {},
   "outputs": [
    {
     "name": "stdout",
     "output_type": "stream",
     "text": [
      "Valor médio de 100 lançamentos é 3.66\n"
     ]
    }
   ],
   "source": [
    "from random import seed\n",
    "from random import randint\n",
    "seed(1) # semente do gerador de números aleatórios\n",
    "\n",
    "mu = 0 # media\n",
    "N = 100 # numero de lançamentos\n",
    "for n in range(0,N):\n",
    "    mu = mu + randint(1, 6) # valor do dado\n",
    "mu = mu/N\n",
    "print(f'Valor médio de {N} lançamentos é {mu}')"
   ]
  },
  {
   "cell_type": "markdown",
   "metadata": {},
   "source": [
    "**Exemplo:**\n",
    "\n",
    "Um fabricante produz peças tais que 10 % delas são defeituosas e 90% são perfeitas. Se uma peça defeituosa for produzida, o fabricante perde 1,00 real, enquanto que uma peça não-defeituosa lhe dá um lucro de 5,00 reais. Se *X* for o lucro líquido, calcule ***E(x)***.\n",
    "\n",
    "|    *X*      | -1  |  5  |\n",
    "|-------------|-----|-----|\n",
    "| $P(X=x_i)$  | 0,1 | 0,9 |\n",
    "\n",
    "Vamos fazer uma simulação:\n"
   ]
  },
  {
   "cell_type": "code",
   "execution_count": 2,
   "metadata": {},
   "outputs": [
    {
     "name": "stdout",
     "output_type": "stream",
     "text": [
      "Valor médio do lucro:4.64\n"
     ]
    }
   ],
   "source": [
    "from random import seed\n",
    "import numpy as np\n",
    "\n",
    "seed(1) # semente do gerador de números aleatórios\n",
    "\n",
    "N = 100 # número de lançamentos\n",
    "x = 0 # lucro por peça\n",
    "p = 0.9 # probabilidade produzir peça perfeita\n",
    "lucro = 5 # lucro por peça\n",
    "prejuizo = -1 # prejuizo por peça\n",
    "for n in range(0,N):\n",
    "    r = np.random.uniform()#\n",
    "    if (r <= p): # se o número gerado é maior do que p\n",
    "        x = x + lucro\n",
    "    else: # senão, prejuizo\n",
    "        x = x - prejuizo\n",
    "x = x/N # valor médio\n",
    "print(f'Valor médio do lucro:{x}')"
   ]
  }
 ],
 "metadata": {
  "kernelspec": {
   "display_name": "Python 3",
   "language": "python",
   "name": "python3"
  },
  "language_info": {
   "codemirror_mode": {
    "name": "ipython",
    "version": 3
   },
   "file_extension": ".py",
   "mimetype": "text/x-python",
   "name": "python",
   "nbconvert_exporter": "python",
   "pygments_lexer": "ipython3",
   "version": "3.12.2"
  }
 },
 "nbformat": 4,
 "nbformat_minor": 2
}
