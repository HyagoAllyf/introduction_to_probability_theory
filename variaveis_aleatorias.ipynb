{
 "cells": [
  {
   "cell_type": "markdown",
   "metadata": {},
   "source": [
    "### Exemplo:\n",
    "\n",
    "Um jogador paga 5 reais para participar de um jogo de dados, disputando com o oponente quem tem o ponto maior. O jogador e o oponenete lançam cada um o seu dado e a seguinte regra de premiação é estabelecida:\n",
    "\n",
    "* Se o ponto do jogador é maior, ele ganha 2 vezes diferença entre o seu ponto e o obtido pelo oponente;\n",
    "\n",
    "* Se o ponto do jogador é menor ou igual ao do oponente, ele não ganha nada;\n",
    "\n",
    "* Esse jogo é favorável ao jogador?"
   ]
  },
  {
   "cell_type": "code",
   "execution_count": 1,
   "metadata": {},
   "outputs": [
    {
     "name": "stdout",
     "output_type": "stream",
     "text": [
      "Aposta 5 reais\n",
      "Valor teórico: 0.16666666666666666\n",
      "Chance de lucros: 0.15\n"
     ]
    }
   ],
   "source": [
    "# Simulação \n",
    "from random import randint\n",
    "aposta = 5\n",
    "Ns = 100 # numero de jogos\n",
    "p = 0\n",
    "for n in range(1, Ns):\n",
    "    G = 0\n",
    "    Y = randint(1,6) # valor de jogador\n",
    "    X = randint(1,6) # valor do oponente\n",
    "    if (Y > X): # se o valor do jogador e maior\n",
    "        G = 2*(Y-X)\n",
    "    if (G > aposta): # se houver lucrot\n",
    "        p = p + 1\n",
    "p = p/Ns # probabilidade de ter lucro\n",
    "print('Aposta', aposta, 'reais')\n",
    "print('Valor teórico:', 1/6)\n",
    "print('Chance de lucros:', p)"
   ]
  }
 ],
 "metadata": {
  "kernelspec": {
   "display_name": "Python 3",
   "language": "python",
   "name": "python3"
  },
  "language_info": {
   "codemirror_mode": {
    "name": "ipython",
    "version": 3
   },
   "file_extension": ".py",
   "mimetype": "text/x-python",
   "name": "python",
   "nbconvert_exporter": "python",
   "pygments_lexer": "ipython3",
   "version": "3.12.2"
  }
 },
 "nbformat": 4,
 "nbformat_minor": 2
}
